{
 "cells": [
  {
   "cell_type": "code",
   "execution_count": 1,
   "id": "1b217367-8ed7-4624-aa75-464ad930f82e",
   "metadata": {},
   "outputs": [],
   "source": [
    "#import stuff we will need\n",
    "import warnings\n",
    "warnings.filterwarnings(\"ignore\")\n",
    "import seaborn as sns\n",
    "import pandas as pd\n",
    "import matplotlib.pyplot as plt\n",
    "import numpy as np\n",
    "from scipy import stats\n",
    "\n",
    "from sklearn.feature_selection import SelectKBest, f_regression, RFE\n",
    "from sklearn.model_selection import train_test_split\n",
    "from sklearn.preprocessing import MinMaxScaler\n",
    "from sklearn.linear_model import LinearRegression, LassoLars, TweedieRegressor\n",
    "from sklearn.preprocessing import PolynomialFeatures\n",
    "from sklearn.metrics import mean_squared_error, r2_score\n",
    "\n",
    "#import functions from my .py files\n",
    "from acquire import get_zillow_data\n",
    "from prep import remove_outliers,remove_outlier, split_continuous, clean_zillow, train_validate_test, get_object_cols, get_numeric_X_cols, min_max_scale\n",
    "from explore import plot_variable_pairs, plot_pairplot, plot_categorical_and_continuous_vars, correlation_exploration\n",
    "from feature_engineering import select_kbest"
   ]
  },
  {
   "cell_type": "code",
   "execution_count": 2,
   "id": "e8171f06-dfb5-41bd-b4e5-7bec5832592d",
   "metadata": {},
   "outputs": [],
   "source": [
    "#acquire our Zillow data from CodeUp server, and turn into .csv\n",
    "df = get_zillow_data()"
   ]
  },
  {
   "cell_type": "code",
   "execution_count": 3,
   "id": "78c023c4-c343-41e0-94c7-27a3d2508051",
   "metadata": {},
   "outputs": [],
   "source": [
    "df['age'] = 2017-df['yearbuilt']"
   ]
  },
  {
   "cell_type": "code",
   "execution_count": 4,
   "id": "7129caf4-5ebf-4d9a-ad7f-fbf08d23dd02",
   "metadata": {},
   "outputs": [
    {
     "data": {
      "text/html": [
       "<div>\n",
       "<style scoped>\n",
       "    .dataframe tbody tr th:only-of-type {\n",
       "        vertical-align: middle;\n",
       "    }\n",
       "\n",
       "    .dataframe tbody tr th {\n",
       "        vertical-align: top;\n",
       "    }\n",
       "\n",
       "    .dataframe thead th {\n",
       "        text-align: right;\n",
       "    }\n",
       "</style>\n",
       "<table border=\"1\" class=\"dataframe\">\n",
       "  <thead>\n",
       "    <tr style=\"text-align: right;\">\n",
       "      <th></th>\n",
       "      <th>parcelid</th>\n",
       "      <th>id</th>\n",
       "      <th>airconditioningtypeid</th>\n",
       "      <th>architecturalstyletypeid</th>\n",
       "      <th>basementsqft</th>\n",
       "      <th>bathroomcnt</th>\n",
       "      <th>bedroomcnt</th>\n",
       "      <th>buildingclasstypeid</th>\n",
       "      <th>buildingqualitytypeid</th>\n",
       "      <th>calculatedbathnbr</th>\n",
       "      <th>...</th>\n",
       "      <th>assessmentyear</th>\n",
       "      <th>landtaxvaluedollarcnt</th>\n",
       "      <th>taxamount</th>\n",
       "      <th>taxdelinquencyflag</th>\n",
       "      <th>taxdelinquencyyear</th>\n",
       "      <th>censustractandblock</th>\n",
       "      <th>id.1</th>\n",
       "      <th>logerror</th>\n",
       "      <th>transactiondate</th>\n",
       "      <th>age</th>\n",
       "    </tr>\n",
       "  </thead>\n",
       "  <tbody>\n",
       "    <tr>\n",
       "      <th>0</th>\n",
       "      <td>14634203</td>\n",
       "      <td>2026522</td>\n",
       "      <td>1.0</td>\n",
       "      <td>NaN</td>\n",
       "      <td>NaN</td>\n",
       "      <td>2.0</td>\n",
       "      <td>3.0</td>\n",
       "      <td>NaN</td>\n",
       "      <td>NaN</td>\n",
       "      <td>2.0</td>\n",
       "      <td>...</td>\n",
       "      <td>2016.0</td>\n",
       "      <td>213516.0</td>\n",
       "      <td>3490.16</td>\n",
       "      <td>NaN</td>\n",
       "      <td>NaN</td>\n",
       "      <td>6.059001e+13</td>\n",
       "      <td>625</td>\n",
       "      <td>-0.061973</td>\n",
       "      <td>2017-08-04</td>\n",
       "      <td>43.0</td>\n",
       "    </tr>\n",
       "    <tr>\n",
       "      <th>1</th>\n",
       "      <td>11721753</td>\n",
       "      <td>616260</td>\n",
       "      <td>NaN</td>\n",
       "      <td>NaN</td>\n",
       "      <td>NaN</td>\n",
       "      <td>2.0</td>\n",
       "      <td>3.0</td>\n",
       "      <td>NaN</td>\n",
       "      <td>6.0</td>\n",
       "      <td>2.0</td>\n",
       "      <td>...</td>\n",
       "      <td>2016.0</td>\n",
       "      <td>163175.0</td>\n",
       "      <td>2627.48</td>\n",
       "      <td>NaN</td>\n",
       "      <td>NaN</td>\n",
       "      <td>6.037220e+13</td>\n",
       "      <td>1018</td>\n",
       "      <td>0.017785</td>\n",
       "      <td>2017-07-21</td>\n",
       "      <td>94.0</td>\n",
       "    </tr>\n",
       "    <tr>\n",
       "      <th>2</th>\n",
       "      <td>11289917</td>\n",
       "      <td>2061546</td>\n",
       "      <td>1.0</td>\n",
       "      <td>NaN</td>\n",
       "      <td>NaN</td>\n",
       "      <td>2.0</td>\n",
       "      <td>3.0</td>\n",
       "      <td>NaN</td>\n",
       "      <td>6.0</td>\n",
       "      <td>2.0</td>\n",
       "      <td>...</td>\n",
       "      <td>2016.0</td>\n",
       "      <td>27214.0</td>\n",
       "      <td>2319.90</td>\n",
       "      <td>Y</td>\n",
       "      <td>15.0</td>\n",
       "      <td>6.037901e+13</td>\n",
       "      <td>1248</td>\n",
       "      <td>-0.362001</td>\n",
       "      <td>2017-06-23</td>\n",
       "      <td>47.0</td>\n",
       "    </tr>\n",
       "    <tr>\n",
       "      <th>3</th>\n",
       "      <td>11637029</td>\n",
       "      <td>2554497</td>\n",
       "      <td>1.0</td>\n",
       "      <td>NaN</td>\n",
       "      <td>NaN</td>\n",
       "      <td>2.0</td>\n",
       "      <td>3.0</td>\n",
       "      <td>NaN</td>\n",
       "      <td>9.0</td>\n",
       "      <td>2.0</td>\n",
       "      <td>...</td>\n",
       "      <td>2016.0</td>\n",
       "      <td>554156.0</td>\n",
       "      <td>9407.01</td>\n",
       "      <td>Y</td>\n",
       "      <td>13.0</td>\n",
       "      <td>6.037701e+13</td>\n",
       "      <td>1734</td>\n",
       "      <td>-0.093399</td>\n",
       "      <td>2017-07-28</td>\n",
       "      <td>37.0</td>\n",
       "    </tr>\n",
       "    <tr>\n",
       "      <th>4</th>\n",
       "      <td>11705026</td>\n",
       "      <td>1834372</td>\n",
       "      <td>NaN</td>\n",
       "      <td>NaN</td>\n",
       "      <td>NaN</td>\n",
       "      <td>1.0</td>\n",
       "      <td>2.0</td>\n",
       "      <td>NaN</td>\n",
       "      <td>6.0</td>\n",
       "      <td>1.0</td>\n",
       "      <td>...</td>\n",
       "      <td>2016.0</td>\n",
       "      <td>23624.0</td>\n",
       "      <td>543.69</td>\n",
       "      <td>NaN</td>\n",
       "      <td>NaN</td>\n",
       "      <td>6.037232e+13</td>\n",
       "      <td>1772</td>\n",
       "      <td>-0.146056</td>\n",
       "      <td>2017-06-30</td>\n",
       "      <td>106.0</td>\n",
       "    </tr>\n",
       "  </tbody>\n",
       "</table>\n",
       "<p>5 rows × 63 columns</p>\n",
       "</div>"
      ],
      "text/plain": [
       "   parcelid       id  airconditioningtypeid  architecturalstyletypeid  \\\n",
       "0  14634203  2026522                    1.0                       NaN   \n",
       "1  11721753   616260                    NaN                       NaN   \n",
       "2  11289917  2061546                    1.0                       NaN   \n",
       "3  11637029  2554497                    1.0                       NaN   \n",
       "4  11705026  1834372                    NaN                       NaN   \n",
       "\n",
       "   basementsqft  bathroomcnt  bedroomcnt  buildingclasstypeid  \\\n",
       "0           NaN          2.0         3.0                  NaN   \n",
       "1           NaN          2.0         3.0                  NaN   \n",
       "2           NaN          2.0         3.0                  NaN   \n",
       "3           NaN          2.0         3.0                  NaN   \n",
       "4           NaN          1.0         2.0                  NaN   \n",
       "\n",
       "   buildingqualitytypeid  calculatedbathnbr  ...  assessmentyear  \\\n",
       "0                    NaN                2.0  ...          2016.0   \n",
       "1                    6.0                2.0  ...          2016.0   \n",
       "2                    6.0                2.0  ...          2016.0   \n",
       "3                    9.0                2.0  ...          2016.0   \n",
       "4                    6.0                1.0  ...          2016.0   \n",
       "\n",
       "   landtaxvaluedollarcnt  taxamount  taxdelinquencyflag  taxdelinquencyyear  \\\n",
       "0               213516.0    3490.16                 NaN                 NaN   \n",
       "1               163175.0    2627.48                 NaN                 NaN   \n",
       "2                27214.0    2319.90                   Y                15.0   \n",
       "3               554156.0    9407.01                   Y                13.0   \n",
       "4                23624.0     543.69                 NaN                 NaN   \n",
       "\n",
       "   censustractandblock  id.1  logerror  transactiondate    age  \n",
       "0         6.059001e+13   625 -0.061973       2017-08-04   43.0  \n",
       "1         6.037220e+13  1018  0.017785       2017-07-21   94.0  \n",
       "2         6.037901e+13  1248 -0.362001       2017-06-23   47.0  \n",
       "3         6.037701e+13  1734 -0.093399       2017-07-28   37.0  \n",
       "4         6.037232e+13  1772 -0.146056       2017-06-30  106.0  \n",
       "\n",
       "[5 rows x 63 columns]"
      ]
     },
     "execution_count": 4,
     "metadata": {},
     "output_type": "execute_result"
    }
   ],
   "source": [
    "df.head()"
   ]
  },
  {
   "cell_type": "code",
   "execution_count": 5,
   "id": "dec8eeae-d134-4418-83e8-a0252931a4a8",
   "metadata": {},
   "outputs": [
    {
     "name": "stdout",
     "output_type": "stream",
     "text": [
      "<class 'pandas.core.frame.DataFrame'>\n",
      "Int64Index: 38622 entries, 0 to 38621\n",
      "Data columns (total 63 columns):\n",
      " #   Column                        Non-Null Count  Dtype  \n",
      "---  ------                        --------------  -----  \n",
      " 0   parcelid                      38622 non-null  int64  \n",
      " 1   id                            38622 non-null  int64  \n",
      " 2   airconditioningtypeid         12224 non-null  float64\n",
      " 3   architecturalstyletypeid      101 non-null    float64\n",
      " 4   basementsqft                  27 non-null     float64\n",
      " 5   bathroomcnt                   38622 non-null  float64\n",
      " 6   bedroomcnt                    38622 non-null  float64\n",
      " 7   buildingclasstypeid           0 non-null      float64\n",
      " 8   buildingqualitytypeid         23706 non-null  float64\n",
      " 9   calculatedbathnbr             38463 non-null  float64\n",
      " 10  decktypeid                    333 non-null    float64\n",
      " 11  finishedfloor1squarefeet      3339 non-null   float64\n",
      " 12  calculatedfinishedsquarefeet  38509 non-null  float64\n",
      " 13  finishedsquarefeet12          38394 non-null  float64\n",
      " 14  finishedsquarefeet13          31 non-null     float64\n",
      " 15  finishedsquarefeet15          4 non-null      float64\n",
      " 16  finishedsquarefeet50          3339 non-null   float64\n",
      " 17  finishedsquarefeet6           80 non-null     float64\n",
      " 18  fips                          38622 non-null  float64\n",
      " 19  fireplacecnt                  4653 non-null   float64\n",
      " 20  fullbathcnt                   38463 non-null  float64\n",
      " 21  garagecarcnt                  13919 non-null  float64\n",
      " 22  garagetotalsqft               13919 non-null  float64\n",
      " 23  hashottuborspa                889 non-null    float64\n",
      " 24  heatingorsystemtypeid         24613 non-null  float64\n",
      " 25  latitude                      38622 non-null  float64\n",
      " 26  longitude                     38622 non-null  float64\n",
      " 27  lotsizesquarefeet             34255 non-null  float64\n",
      " 28  poolcnt                       8594 non-null   float64\n",
      " 29  poolsizesum                   496 non-null    float64\n",
      " 30  pooltypeid10                  250 non-null    float64\n",
      " 31  pooltypeid2                   639 non-null    float64\n",
      " 32  pooltypeid7                   7946 non-null   float64\n",
      " 33  propertycountylandusecode     38622 non-null  object \n",
      " 34  propertylandusetypeid         38622 non-null  float64\n",
      " 35  propertyzoningdesc            23958 non-null  object \n",
      " 36  rawcensustractandblock        38622 non-null  float64\n",
      " 37  regionidcity                  37899 non-null  float64\n",
      " 38  regionidcounty                38622 non-null  float64\n",
      " 39  regionidneighborhood          15167 non-null  float64\n",
      " 40  regionidzip                   38595 non-null  float64\n",
      " 41  roomcnt                       38622 non-null  float64\n",
      " 42  storytypeid                   27 non-null     float64\n",
      " 43  threequarterbathnbr           5584 non-null   float64\n",
      " 44  typeconstructiontypeid        111 non-null    float64\n",
      " 45  unitcnt                       23907 non-null  float64\n",
      " 46  yardbuildingsqft17            1367 non-null   float64\n",
      " 47  yardbuildingsqft26            48 non-null     float64\n",
      " 48  yearbuilt                     38486 non-null  float64\n",
      " 49  numberofstories               9515 non-null   float64\n",
      " 50  fireplaceflag                 84 non-null     float64\n",
      " 51  structuretaxvaluedollarcnt    38570 non-null  float64\n",
      " 52  taxvaluedollarcnt             38621 non-null  float64\n",
      " 53  assessmentyear                38622 non-null  float64\n",
      " 54  landtaxvaluedollarcnt         38621 non-null  float64\n",
      " 55  taxamount                     38621 non-null  float64\n",
      " 56  taxdelinquencyflag            1268 non-null   object \n",
      " 57  taxdelinquencyyear            1268 non-null   float64\n",
      " 58  censustractandblock           38478 non-null  float64\n",
      " 59  id.1                          38622 non-null  int64  \n",
      " 60  logerror                      38622 non-null  float64\n",
      " 61  transactiondate               38622 non-null  object \n",
      " 62  age                           38486 non-null  float64\n",
      "dtypes: float64(56), int64(3), object(4)\n",
      "memory usage: 18.9+ MB\n"
     ]
    }
   ],
   "source": [
    "df.info()"
   ]
  },
  {
   "cell_type": "code",
   "execution_count": 6,
   "id": "0d3b3416-6c51-489d-9da0-f2d6a02ce45e",
   "metadata": {},
   "outputs": [],
   "source": [
    "def clean_zillow(df):\n",
    "    '''\n",
    "    this function takes in an unclean zillow df and does the following:\n",
    "    1.) keeps only columns we need for the project\n",
    "    2.) drops nulls\n",
    "    3.) renames columns\n",
    "    '''\n",
    "    #select features for df\n",
    "    features = ['parcelid', 'calculatedfinishedsquarefeet', 'bathroomcnt', 'bedroomcnt', 'taxvaluedollarcnt', 'yearbuilt','fips']\n",
    "    df = df[features]\n",
    "    df = df.drop_duplicates(subset=['parcelid'])\n",
    "    \n",
    "    #rename columns for easier use\n",
    "    df = df.rename(columns={\n",
    "                            'parcelid': 'parcel_id',\n",
    "                            'calculatedfinishedsquarefeet': 'sqft',\n",
    "                            'bathroomcnt': 'baths',\n",
    "                            'bedroomcnt': 'beds',\n",
    "                            'taxvaluedollarcnt':'tax_value'\n",
    "        \n",
    "    })\n",
    "    \n",
    "    #set index\n",
    "    df = df.set_index('parcel_id')\n",
    "    #drop nulls\n",
    "    df = df.dropna(subset=['sqft','tax_value'])\n",
    "    \n",
    "    return df"
   ]
  },
  {
   "cell_type": "code",
   "execution_count": 7,
   "id": "08cbd7f4-edfc-4ab1-9383-3a36defab285",
   "metadata": {},
   "outputs": [],
   "source": [
    "df = clean_zillow(df)"
   ]
  },
  {
   "cell_type": "code",
   "execution_count": 8,
   "id": "d21d71a9-d0c9-4bcd-bf09-daacf539ac57",
   "metadata": {},
   "outputs": [
    {
     "data": {
      "text/html": [
       "<div>\n",
       "<style scoped>\n",
       "    .dataframe tbody tr th:only-of-type {\n",
       "        vertical-align: middle;\n",
       "    }\n",
       "\n",
       "    .dataframe tbody tr th {\n",
       "        vertical-align: top;\n",
       "    }\n",
       "\n",
       "    .dataframe thead th {\n",
       "        text-align: right;\n",
       "    }\n",
       "</style>\n",
       "<table border=\"1\" class=\"dataframe\">\n",
       "  <thead>\n",
       "    <tr style=\"text-align: right;\">\n",
       "      <th></th>\n",
       "      <th>sqft</th>\n",
       "      <th>baths</th>\n",
       "      <th>beds</th>\n",
       "      <th>tax_value</th>\n",
       "      <th>yearbuilt</th>\n",
       "      <th>fips</th>\n",
       "    </tr>\n",
       "    <tr>\n",
       "      <th>parcel_id</th>\n",
       "      <th></th>\n",
       "      <th></th>\n",
       "      <th></th>\n",
       "      <th></th>\n",
       "      <th></th>\n",
       "      <th></th>\n",
       "    </tr>\n",
       "  </thead>\n",
       "  <tbody>\n",
       "    <tr>\n",
       "      <th>14634203</th>\n",
       "      <td>1125.0</td>\n",
       "      <td>2.0</td>\n",
       "      <td>3.0</td>\n",
       "      <td>289445.0</td>\n",
       "      <td>1974.0</td>\n",
       "      <td>6059.0</td>\n",
       "    </tr>\n",
       "    <tr>\n",
       "      <th>11721753</th>\n",
       "      <td>1316.0</td>\n",
       "      <td>2.0</td>\n",
       "      <td>3.0</td>\n",
       "      <td>205123.0</td>\n",
       "      <td>1923.0</td>\n",
       "      <td>6037.0</td>\n",
       "    </tr>\n",
       "    <tr>\n",
       "      <th>11289917</th>\n",
       "      <td>1458.0</td>\n",
       "      <td>2.0</td>\n",
       "      <td>3.0</td>\n",
       "      <td>136104.0</td>\n",
       "      <td>1970.0</td>\n",
       "      <td>6037.0</td>\n",
       "    </tr>\n",
       "    <tr>\n",
       "      <th>11637029</th>\n",
       "      <td>1766.0</td>\n",
       "      <td>2.0</td>\n",
       "      <td>3.0</td>\n",
       "      <td>810694.0</td>\n",
       "      <td>1980.0</td>\n",
       "      <td>6037.0</td>\n",
       "    </tr>\n",
       "    <tr>\n",
       "      <th>11705026</th>\n",
       "      <td>1421.0</td>\n",
       "      <td>1.0</td>\n",
       "      <td>2.0</td>\n",
       "      <td>35606.0</td>\n",
       "      <td>1911.0</td>\n",
       "      <td>6037.0</td>\n",
       "    </tr>\n",
       "  </tbody>\n",
       "</table>\n",
       "</div>"
      ],
      "text/plain": [
       "             sqft  baths  beds  tax_value  yearbuilt    fips\n",
       "parcel_id                                                   \n",
       "14634203   1125.0    2.0   3.0   289445.0     1974.0  6059.0\n",
       "11721753   1316.0    2.0   3.0   205123.0     1923.0  6037.0\n",
       "11289917   1458.0    2.0   3.0   136104.0     1970.0  6037.0\n",
       "11637029   1766.0    2.0   3.0   810694.0     1980.0  6037.0\n",
       "11705026   1421.0    1.0   2.0    35606.0     1911.0  6037.0"
      ]
     },
     "execution_count": 8,
     "metadata": {},
     "output_type": "execute_result"
    }
   ],
   "source": [
    "df.head()"
   ]
  },
  {
   "cell_type": "code",
   "execution_count": null,
   "id": "d770bbe3-b624-475c-ac4c-bd072141ec09",
   "metadata": {},
   "outputs": [],
   "source": []
  },
  {
   "cell_type": "code",
   "execution_count": 9,
   "id": "0b738154-658b-4a8f-a347-ceccbbb019f2",
   "metadata": {},
   "outputs": [
    {
     "data": {
      "text/html": [
       "<div>\n",
       "<style scoped>\n",
       "    .dataframe tbody tr th:only-of-type {\n",
       "        vertical-align: middle;\n",
       "    }\n",
       "\n",
       "    .dataframe tbody tr th {\n",
       "        vertical-align: top;\n",
       "    }\n",
       "\n",
       "    .dataframe thead th {\n",
       "        text-align: right;\n",
       "    }\n",
       "</style>\n",
       "<table border=\"1\" class=\"dataframe\">\n",
       "  <thead>\n",
       "    <tr style=\"text-align: right;\">\n",
       "      <th></th>\n",
       "      <th>sqft</th>\n",
       "      <th>baths</th>\n",
       "      <th>beds</th>\n",
       "      <th>tax_value</th>\n",
       "      <th>yearbuilt</th>\n",
       "      <th>fips</th>\n",
       "    </tr>\n",
       "    <tr>\n",
       "      <th>parcel_id</th>\n",
       "      <th></th>\n",
       "      <th></th>\n",
       "      <th></th>\n",
       "      <th></th>\n",
       "      <th></th>\n",
       "      <th></th>\n",
       "    </tr>\n",
       "  </thead>\n",
       "  <tbody>\n",
       "    <tr>\n",
       "      <th>14634203</th>\n",
       "      <td>1125.0</td>\n",
       "      <td>2.0</td>\n",
       "      <td>3.0</td>\n",
       "      <td>289445.0</td>\n",
       "      <td>1974.0</td>\n",
       "      <td>6059.0</td>\n",
       "    </tr>\n",
       "    <tr>\n",
       "      <th>11721753</th>\n",
       "      <td>1316.0</td>\n",
       "      <td>2.0</td>\n",
       "      <td>3.0</td>\n",
       "      <td>205123.0</td>\n",
       "      <td>1923.0</td>\n",
       "      <td>6037.0</td>\n",
       "    </tr>\n",
       "    <tr>\n",
       "      <th>11289917</th>\n",
       "      <td>1458.0</td>\n",
       "      <td>2.0</td>\n",
       "      <td>3.0</td>\n",
       "      <td>136104.0</td>\n",
       "      <td>1970.0</td>\n",
       "      <td>6037.0</td>\n",
       "    </tr>\n",
       "    <tr>\n",
       "      <th>11637029</th>\n",
       "      <td>1766.0</td>\n",
       "      <td>2.0</td>\n",
       "      <td>3.0</td>\n",
       "      <td>810694.0</td>\n",
       "      <td>1980.0</td>\n",
       "      <td>6037.0</td>\n",
       "    </tr>\n",
       "    <tr>\n",
       "      <th>11705026</th>\n",
       "      <td>1421.0</td>\n",
       "      <td>1.0</td>\n",
       "      <td>2.0</td>\n",
       "      <td>35606.0</td>\n",
       "      <td>1911.0</td>\n",
       "      <td>6037.0</td>\n",
       "    </tr>\n",
       "    <tr>\n",
       "      <th>...</th>\n",
       "      <td>...</td>\n",
       "      <td>...</td>\n",
       "      <td>...</td>\n",
       "      <td>...</td>\n",
       "      <td>...</td>\n",
       "      <td>...</td>\n",
       "    </tr>\n",
       "    <tr>\n",
       "      <th>14453399</th>\n",
       "      <td>3015.0</td>\n",
       "      <td>3.0</td>\n",
       "      <td>5.0</td>\n",
       "      <td>852813.0</td>\n",
       "      <td>2002.0</td>\n",
       "      <td>6059.0</td>\n",
       "    </tr>\n",
       "    <tr>\n",
       "      <th>12019061</th>\n",
       "      <td>769.0</td>\n",
       "      <td>2.0</td>\n",
       "      <td>1.0</td>\n",
       "      <td>492395.0</td>\n",
       "      <td>1964.0</td>\n",
       "      <td>6037.0</td>\n",
       "    </tr>\n",
       "    <tr>\n",
       "      <th>11570288</th>\n",
       "      <td>1212.0</td>\n",
       "      <td>2.0</td>\n",
       "      <td>2.0</td>\n",
       "      <td>600608.0</td>\n",
       "      <td>1969.0</td>\n",
       "      <td>6037.0</td>\n",
       "    </tr>\n",
       "    <tr>\n",
       "      <th>11128688</th>\n",
       "      <td>2992.0</td>\n",
       "      <td>3.0</td>\n",
       "      <td>5.0</td>\n",
       "      <td>1120000.0</td>\n",
       "      <td>1977.0</td>\n",
       "      <td>6037.0</td>\n",
       "    </tr>\n",
       "    <tr>\n",
       "      <th>10713993</th>\n",
       "      <td>1574.0</td>\n",
       "      <td>3.0</td>\n",
       "      <td>3.0</td>\n",
       "      <td>563463.0</td>\n",
       "      <td>1951.0</td>\n",
       "      <td>6037.0</td>\n",
       "    </tr>\n",
       "  </tbody>\n",
       "</table>\n",
       "<p>38447 rows × 6 columns</p>\n",
       "</div>"
      ],
      "text/plain": [
       "             sqft  baths  beds  tax_value  yearbuilt    fips\n",
       "parcel_id                                                   \n",
       "14634203   1125.0    2.0   3.0   289445.0     1974.0  6059.0\n",
       "11721753   1316.0    2.0   3.0   205123.0     1923.0  6037.0\n",
       "11289917   1458.0    2.0   3.0   136104.0     1970.0  6037.0\n",
       "11637029   1766.0    2.0   3.0   810694.0     1980.0  6037.0\n",
       "11705026   1421.0    1.0   2.0    35606.0     1911.0  6037.0\n",
       "...           ...    ...   ...        ...        ...     ...\n",
       "14453399   3015.0    3.0   5.0   852813.0     2002.0  6059.0\n",
       "12019061    769.0    2.0   1.0   492395.0     1964.0  6037.0\n",
       "11570288   1212.0    2.0   2.0   600608.0     1969.0  6037.0\n",
       "11128688   2992.0    3.0   5.0  1120000.0     1977.0  6037.0\n",
       "10713993   1574.0    3.0   3.0   563463.0     1951.0  6037.0\n",
       "\n",
       "[38447 rows x 6 columns]"
      ]
     },
     "execution_count": 9,
     "metadata": {},
     "output_type": "execute_result"
    }
   ],
   "source": [
    "df.dropna(subset=['yearbuilt'])"
   ]
  },
  {
   "cell_type": "code",
   "execution_count": 10,
   "id": "f652d040-6260-4780-9553-ea84d3a1ebdd",
   "metadata": {},
   "outputs": [],
   "source": [
    "df['age']=2017-df['yearbuilt']"
   ]
  },
  {
   "cell_type": "code",
   "execution_count": 11,
   "id": "a9b12ba7-ee56-41e0-bf8b-cb23df870aa2",
   "metadata": {},
   "outputs": [
    {
     "data": {
      "text/html": [
       "<div>\n",
       "<style scoped>\n",
       "    .dataframe tbody tr th:only-of-type {\n",
       "        vertical-align: middle;\n",
       "    }\n",
       "\n",
       "    .dataframe tbody tr th {\n",
       "        vertical-align: top;\n",
       "    }\n",
       "\n",
       "    .dataframe thead th {\n",
       "        text-align: right;\n",
       "    }\n",
       "</style>\n",
       "<table border=\"1\" class=\"dataframe\">\n",
       "  <thead>\n",
       "    <tr style=\"text-align: right;\">\n",
       "      <th></th>\n",
       "      <th>sqft</th>\n",
       "      <th>baths</th>\n",
       "      <th>beds</th>\n",
       "      <th>tax_value</th>\n",
       "      <th>yearbuilt</th>\n",
       "      <th>fips</th>\n",
       "      <th>age</th>\n",
       "    </tr>\n",
       "    <tr>\n",
       "      <th>parcel_id</th>\n",
       "      <th></th>\n",
       "      <th></th>\n",
       "      <th></th>\n",
       "      <th></th>\n",
       "      <th></th>\n",
       "      <th></th>\n",
       "      <th></th>\n",
       "    </tr>\n",
       "  </thead>\n",
       "  <tbody>\n",
       "    <tr>\n",
       "      <th>14634203</th>\n",
       "      <td>1125.0</td>\n",
       "      <td>2.0</td>\n",
       "      <td>3.0</td>\n",
       "      <td>289445.0</td>\n",
       "      <td>1974.0</td>\n",
       "      <td>6059.0</td>\n",
       "      <td>43.0</td>\n",
       "    </tr>\n",
       "    <tr>\n",
       "      <th>11721753</th>\n",
       "      <td>1316.0</td>\n",
       "      <td>2.0</td>\n",
       "      <td>3.0</td>\n",
       "      <td>205123.0</td>\n",
       "      <td>1923.0</td>\n",
       "      <td>6037.0</td>\n",
       "      <td>94.0</td>\n",
       "    </tr>\n",
       "    <tr>\n",
       "      <th>11289917</th>\n",
       "      <td>1458.0</td>\n",
       "      <td>2.0</td>\n",
       "      <td>3.0</td>\n",
       "      <td>136104.0</td>\n",
       "      <td>1970.0</td>\n",
       "      <td>6037.0</td>\n",
       "      <td>47.0</td>\n",
       "    </tr>\n",
       "    <tr>\n",
       "      <th>11637029</th>\n",
       "      <td>1766.0</td>\n",
       "      <td>2.0</td>\n",
       "      <td>3.0</td>\n",
       "      <td>810694.0</td>\n",
       "      <td>1980.0</td>\n",
       "      <td>6037.0</td>\n",
       "      <td>37.0</td>\n",
       "    </tr>\n",
       "    <tr>\n",
       "      <th>11705026</th>\n",
       "      <td>1421.0</td>\n",
       "      <td>1.0</td>\n",
       "      <td>2.0</td>\n",
       "      <td>35606.0</td>\n",
       "      <td>1911.0</td>\n",
       "      <td>6037.0</td>\n",
       "      <td>106.0</td>\n",
       "    </tr>\n",
       "    <tr>\n",
       "      <th>...</th>\n",
       "      <td>...</td>\n",
       "      <td>...</td>\n",
       "      <td>...</td>\n",
       "      <td>...</td>\n",
       "      <td>...</td>\n",
       "      <td>...</td>\n",
       "      <td>...</td>\n",
       "    </tr>\n",
       "    <tr>\n",
       "      <th>14453399</th>\n",
       "      <td>3015.0</td>\n",
       "      <td>3.0</td>\n",
       "      <td>5.0</td>\n",
       "      <td>852813.0</td>\n",
       "      <td>2002.0</td>\n",
       "      <td>6059.0</td>\n",
       "      <td>15.0</td>\n",
       "    </tr>\n",
       "    <tr>\n",
       "      <th>12019061</th>\n",
       "      <td>769.0</td>\n",
       "      <td>2.0</td>\n",
       "      <td>1.0</td>\n",
       "      <td>492395.0</td>\n",
       "      <td>1964.0</td>\n",
       "      <td>6037.0</td>\n",
       "      <td>53.0</td>\n",
       "    </tr>\n",
       "    <tr>\n",
       "      <th>11570288</th>\n",
       "      <td>1212.0</td>\n",
       "      <td>2.0</td>\n",
       "      <td>2.0</td>\n",
       "      <td>600608.0</td>\n",
       "      <td>1969.0</td>\n",
       "      <td>6037.0</td>\n",
       "      <td>48.0</td>\n",
       "    </tr>\n",
       "    <tr>\n",
       "      <th>11128688</th>\n",
       "      <td>2992.0</td>\n",
       "      <td>3.0</td>\n",
       "      <td>5.0</td>\n",
       "      <td>1120000.0</td>\n",
       "      <td>1977.0</td>\n",
       "      <td>6037.0</td>\n",
       "      <td>40.0</td>\n",
       "    </tr>\n",
       "    <tr>\n",
       "      <th>10713993</th>\n",
       "      <td>1574.0</td>\n",
       "      <td>3.0</td>\n",
       "      <td>3.0</td>\n",
       "      <td>563463.0</td>\n",
       "      <td>1951.0</td>\n",
       "      <td>6037.0</td>\n",
       "      <td>66.0</td>\n",
       "    </tr>\n",
       "  </tbody>\n",
       "</table>\n",
       "<p>38475 rows × 7 columns</p>\n",
       "</div>"
      ],
      "text/plain": [
       "             sqft  baths  beds  tax_value  yearbuilt    fips    age\n",
       "parcel_id                                                          \n",
       "14634203   1125.0    2.0   3.0   289445.0     1974.0  6059.0   43.0\n",
       "11721753   1316.0    2.0   3.0   205123.0     1923.0  6037.0   94.0\n",
       "11289917   1458.0    2.0   3.0   136104.0     1970.0  6037.0   47.0\n",
       "11637029   1766.0    2.0   3.0   810694.0     1980.0  6037.0   37.0\n",
       "11705026   1421.0    1.0   2.0    35606.0     1911.0  6037.0  106.0\n",
       "...           ...    ...   ...        ...        ...     ...    ...\n",
       "14453399   3015.0    3.0   5.0   852813.0     2002.0  6059.0   15.0\n",
       "12019061    769.0    2.0   1.0   492395.0     1964.0  6037.0   53.0\n",
       "11570288   1212.0    2.0   2.0   600608.0     1969.0  6037.0   48.0\n",
       "11128688   2992.0    3.0   5.0  1120000.0     1977.0  6037.0   40.0\n",
       "10713993   1574.0    3.0   3.0   563463.0     1951.0  6037.0   66.0\n",
       "\n",
       "[38475 rows x 7 columns]"
      ]
     },
     "execution_count": 11,
     "metadata": {},
     "output_type": "execute_result"
    }
   ],
   "source": [
    "df"
   ]
  },
  {
   "cell_type": "code",
   "execution_count": 12,
   "id": "cba57205-4306-4391-bc87-48fd13df4c6b",
   "metadata": {},
   "outputs": [],
   "source": [
    "df = df.drop(columns=['yearbuilt'])"
   ]
  },
  {
   "cell_type": "code",
   "execution_count": 13,
   "id": "9ff75779-6ae2-4c24-84d1-2429327e9d6d",
   "metadata": {},
   "outputs": [
    {
     "data": {
      "text/html": [
       "<div>\n",
       "<style scoped>\n",
       "    .dataframe tbody tr th:only-of-type {\n",
       "        vertical-align: middle;\n",
       "    }\n",
       "\n",
       "    .dataframe tbody tr th {\n",
       "        vertical-align: top;\n",
       "    }\n",
       "\n",
       "    .dataframe thead th {\n",
       "        text-align: right;\n",
       "    }\n",
       "</style>\n",
       "<table border=\"1\" class=\"dataframe\">\n",
       "  <thead>\n",
       "    <tr style=\"text-align: right;\">\n",
       "      <th></th>\n",
       "      <th>sqft</th>\n",
       "      <th>baths</th>\n",
       "      <th>beds</th>\n",
       "      <th>tax_value</th>\n",
       "      <th>fips</th>\n",
       "      <th>age</th>\n",
       "    </tr>\n",
       "    <tr>\n",
       "      <th>parcel_id</th>\n",
       "      <th></th>\n",
       "      <th></th>\n",
       "      <th></th>\n",
       "      <th></th>\n",
       "      <th></th>\n",
       "      <th></th>\n",
       "    </tr>\n",
       "  </thead>\n",
       "  <tbody>\n",
       "    <tr>\n",
       "      <th>14634203</th>\n",
       "      <td>1125.0</td>\n",
       "      <td>2.0</td>\n",
       "      <td>3.0</td>\n",
       "      <td>289445.0</td>\n",
       "      <td>6059.0</td>\n",
       "      <td>43.0</td>\n",
       "    </tr>\n",
       "    <tr>\n",
       "      <th>11721753</th>\n",
       "      <td>1316.0</td>\n",
       "      <td>2.0</td>\n",
       "      <td>3.0</td>\n",
       "      <td>205123.0</td>\n",
       "      <td>6037.0</td>\n",
       "      <td>94.0</td>\n",
       "    </tr>\n",
       "    <tr>\n",
       "      <th>11289917</th>\n",
       "      <td>1458.0</td>\n",
       "      <td>2.0</td>\n",
       "      <td>3.0</td>\n",
       "      <td>136104.0</td>\n",
       "      <td>6037.0</td>\n",
       "      <td>47.0</td>\n",
       "    </tr>\n",
       "    <tr>\n",
       "      <th>11637029</th>\n",
       "      <td>1766.0</td>\n",
       "      <td>2.0</td>\n",
       "      <td>3.0</td>\n",
       "      <td>810694.0</td>\n",
       "      <td>6037.0</td>\n",
       "      <td>37.0</td>\n",
       "    </tr>\n",
       "    <tr>\n",
       "      <th>11705026</th>\n",
       "      <td>1421.0</td>\n",
       "      <td>1.0</td>\n",
       "      <td>2.0</td>\n",
       "      <td>35606.0</td>\n",
       "      <td>6037.0</td>\n",
       "      <td>106.0</td>\n",
       "    </tr>\n",
       "    <tr>\n",
       "      <th>...</th>\n",
       "      <td>...</td>\n",
       "      <td>...</td>\n",
       "      <td>...</td>\n",
       "      <td>...</td>\n",
       "      <td>...</td>\n",
       "      <td>...</td>\n",
       "    </tr>\n",
       "    <tr>\n",
       "      <th>14453399</th>\n",
       "      <td>3015.0</td>\n",
       "      <td>3.0</td>\n",
       "      <td>5.0</td>\n",
       "      <td>852813.0</td>\n",
       "      <td>6059.0</td>\n",
       "      <td>15.0</td>\n",
       "    </tr>\n",
       "    <tr>\n",
       "      <th>12019061</th>\n",
       "      <td>769.0</td>\n",
       "      <td>2.0</td>\n",
       "      <td>1.0</td>\n",
       "      <td>492395.0</td>\n",
       "      <td>6037.0</td>\n",
       "      <td>53.0</td>\n",
       "    </tr>\n",
       "    <tr>\n",
       "      <th>11570288</th>\n",
       "      <td>1212.0</td>\n",
       "      <td>2.0</td>\n",
       "      <td>2.0</td>\n",
       "      <td>600608.0</td>\n",
       "      <td>6037.0</td>\n",
       "      <td>48.0</td>\n",
       "    </tr>\n",
       "    <tr>\n",
       "      <th>11128688</th>\n",
       "      <td>2992.0</td>\n",
       "      <td>3.0</td>\n",
       "      <td>5.0</td>\n",
       "      <td>1120000.0</td>\n",
       "      <td>6037.0</td>\n",
       "      <td>40.0</td>\n",
       "    </tr>\n",
       "    <tr>\n",
       "      <th>10713993</th>\n",
       "      <td>1574.0</td>\n",
       "      <td>3.0</td>\n",
       "      <td>3.0</td>\n",
       "      <td>563463.0</td>\n",
       "      <td>6037.0</td>\n",
       "      <td>66.0</td>\n",
       "    </tr>\n",
       "  </tbody>\n",
       "</table>\n",
       "<p>38475 rows × 6 columns</p>\n",
       "</div>"
      ],
      "text/plain": [
       "             sqft  baths  beds  tax_value    fips    age\n",
       "parcel_id                                               \n",
       "14634203   1125.0    2.0   3.0   289445.0  6059.0   43.0\n",
       "11721753   1316.0    2.0   3.0   205123.0  6037.0   94.0\n",
       "11289917   1458.0    2.0   3.0   136104.0  6037.0   47.0\n",
       "11637029   1766.0    2.0   3.0   810694.0  6037.0   37.0\n",
       "11705026   1421.0    1.0   2.0    35606.0  6037.0  106.0\n",
       "...           ...    ...   ...        ...     ...    ...\n",
       "14453399   3015.0    3.0   5.0   852813.0  6059.0   15.0\n",
       "12019061    769.0    2.0   1.0   492395.0  6037.0   53.0\n",
       "11570288   1212.0    2.0   2.0   600608.0  6037.0   48.0\n",
       "11128688   2992.0    3.0   5.0  1120000.0  6037.0   40.0\n",
       "10713993   1574.0    3.0   3.0   563463.0  6037.0   66.0\n",
       "\n",
       "[38475 rows x 6 columns]"
      ]
     },
     "execution_count": 13,
     "metadata": {},
     "output_type": "execute_result"
    }
   ],
   "source": [
    "df"
   ]
  },
  {
   "cell_type": "code",
   "execution_count": 14,
   "id": "e8a3cefa-6ebf-4c32-96b8-6ac997bb98f2",
   "metadata": {},
   "outputs": [
    {
     "data": {
      "text/plain": [
       "array([6059., 6037., 6111.])"
      ]
     },
     "execution_count": 14,
     "metadata": {},
     "output_type": "execute_result"
    }
   ],
   "source": [
    "df.fips.unique()"
   ]
  },
  {
   "cell_type": "code",
   "execution_count": 15,
   "id": "b876b79e-4c73-4e1b-965d-3c4af2246ff6",
   "metadata": {},
   "outputs": [
    {
     "data": {
      "text/plain": [
       "6037.0    23998\n",
       "6059.0    11068\n",
       "6111.0     3409\n",
       "Name: fips, dtype: int64"
      ]
     },
     "execution_count": 15,
     "metadata": {},
     "output_type": "execute_result"
    }
   ],
   "source": [
    "df.fips.value_counts()"
   ]
  },
  {
   "cell_type": "raw",
   "id": "75a9162d-f361-4a6e-a55c-716d43aa3764",
   "metadata": {},
   "source": [
    "6059 is Orange County\n",
    "6037 is Los Angeles County\n",
    "6111 is Ventura County"
   ]
  },
  {
   "cell_type": "code",
   "execution_count": 16,
   "id": "dfc85787-2991-4c08-b572-d1b6f74384c4",
   "metadata": {},
   "outputs": [
    {
     "name": "stdout",
     "output_type": "stream",
     "text": [
      "<class 'pandas.core.frame.DataFrame'>\n",
      "Int64Index: 38475 entries, 14634203 to 10713993\n",
      "Data columns (total 6 columns):\n",
      " #   Column     Non-Null Count  Dtype  \n",
      "---  ------     --------------  -----  \n",
      " 0   sqft       38475 non-null  float64\n",
      " 1   baths      38475 non-null  float64\n",
      " 2   beds       38475 non-null  float64\n",
      " 3   tax_value  38475 non-null  float64\n",
      " 4   fips       38475 non-null  float64\n",
      " 5   age        38447 non-null  float64\n",
      "dtypes: float64(6)\n",
      "memory usage: 2.1 MB\n"
     ]
    }
   ],
   "source": [
    "df.info()"
   ]
  },
  {
   "cell_type": "code",
   "execution_count": 17,
   "id": "9be4d944-6c67-442f-82cc-d5c34601ac0a",
   "metadata": {},
   "outputs": [],
   "source": [
    "df['fips'].replace({'6037.0': 'Los Angeles County', '6059.0': 'Orange County', '6111.0': 'Ventura County'}, inplace=True)"
   ]
  },
  {
   "cell_type": "code",
   "execution_count": 18,
   "id": "b61ba801-9196-4722-8f6c-3b521d525e1f",
   "metadata": {},
   "outputs": [
    {
     "data": {
      "text/html": [
       "<div>\n",
       "<style scoped>\n",
       "    .dataframe tbody tr th:only-of-type {\n",
       "        vertical-align: middle;\n",
       "    }\n",
       "\n",
       "    .dataframe tbody tr th {\n",
       "        vertical-align: top;\n",
       "    }\n",
       "\n",
       "    .dataframe thead th {\n",
       "        text-align: right;\n",
       "    }\n",
       "</style>\n",
       "<table border=\"1\" class=\"dataframe\">\n",
       "  <thead>\n",
       "    <tr style=\"text-align: right;\">\n",
       "      <th></th>\n",
       "      <th>sqft</th>\n",
       "      <th>baths</th>\n",
       "      <th>beds</th>\n",
       "      <th>tax_value</th>\n",
       "      <th>fips</th>\n",
       "      <th>age</th>\n",
       "    </tr>\n",
       "    <tr>\n",
       "      <th>parcel_id</th>\n",
       "      <th></th>\n",
       "      <th></th>\n",
       "      <th></th>\n",
       "      <th></th>\n",
       "      <th></th>\n",
       "      <th></th>\n",
       "    </tr>\n",
       "  </thead>\n",
       "  <tbody>\n",
       "    <tr>\n",
       "      <th>14634203</th>\n",
       "      <td>1125.0</td>\n",
       "      <td>2.0</td>\n",
       "      <td>3.0</td>\n",
       "      <td>289445.0</td>\n",
       "      <td>6059.0</td>\n",
       "      <td>43.0</td>\n",
       "    </tr>\n",
       "    <tr>\n",
       "      <th>11721753</th>\n",
       "      <td>1316.0</td>\n",
       "      <td>2.0</td>\n",
       "      <td>3.0</td>\n",
       "      <td>205123.0</td>\n",
       "      <td>6037.0</td>\n",
       "      <td>94.0</td>\n",
       "    </tr>\n",
       "    <tr>\n",
       "      <th>11289917</th>\n",
       "      <td>1458.0</td>\n",
       "      <td>2.0</td>\n",
       "      <td>3.0</td>\n",
       "      <td>136104.0</td>\n",
       "      <td>6037.0</td>\n",
       "      <td>47.0</td>\n",
       "    </tr>\n",
       "    <tr>\n",
       "      <th>11637029</th>\n",
       "      <td>1766.0</td>\n",
       "      <td>2.0</td>\n",
       "      <td>3.0</td>\n",
       "      <td>810694.0</td>\n",
       "      <td>6037.0</td>\n",
       "      <td>37.0</td>\n",
       "    </tr>\n",
       "    <tr>\n",
       "      <th>11705026</th>\n",
       "      <td>1421.0</td>\n",
       "      <td>1.0</td>\n",
       "      <td>2.0</td>\n",
       "      <td>35606.0</td>\n",
       "      <td>6037.0</td>\n",
       "      <td>106.0</td>\n",
       "    </tr>\n",
       "    <tr>\n",
       "      <th>...</th>\n",
       "      <td>...</td>\n",
       "      <td>...</td>\n",
       "      <td>...</td>\n",
       "      <td>...</td>\n",
       "      <td>...</td>\n",
       "      <td>...</td>\n",
       "    </tr>\n",
       "    <tr>\n",
       "      <th>14453399</th>\n",
       "      <td>3015.0</td>\n",
       "      <td>3.0</td>\n",
       "      <td>5.0</td>\n",
       "      <td>852813.0</td>\n",
       "      <td>6059.0</td>\n",
       "      <td>15.0</td>\n",
       "    </tr>\n",
       "    <tr>\n",
       "      <th>12019061</th>\n",
       "      <td>769.0</td>\n",
       "      <td>2.0</td>\n",
       "      <td>1.0</td>\n",
       "      <td>492395.0</td>\n",
       "      <td>6037.0</td>\n",
       "      <td>53.0</td>\n",
       "    </tr>\n",
       "    <tr>\n",
       "      <th>11570288</th>\n",
       "      <td>1212.0</td>\n",
       "      <td>2.0</td>\n",
       "      <td>2.0</td>\n",
       "      <td>600608.0</td>\n",
       "      <td>6037.0</td>\n",
       "      <td>48.0</td>\n",
       "    </tr>\n",
       "    <tr>\n",
       "      <th>11128688</th>\n",
       "      <td>2992.0</td>\n",
       "      <td>3.0</td>\n",
       "      <td>5.0</td>\n",
       "      <td>1120000.0</td>\n",
       "      <td>6037.0</td>\n",
       "      <td>40.0</td>\n",
       "    </tr>\n",
       "    <tr>\n",
       "      <th>10713993</th>\n",
       "      <td>1574.0</td>\n",
       "      <td>3.0</td>\n",
       "      <td>3.0</td>\n",
       "      <td>563463.0</td>\n",
       "      <td>6037.0</td>\n",
       "      <td>66.0</td>\n",
       "    </tr>\n",
       "  </tbody>\n",
       "</table>\n",
       "<p>38475 rows × 6 columns</p>\n",
       "</div>"
      ],
      "text/plain": [
       "             sqft  baths  beds  tax_value    fips    age\n",
       "parcel_id                                               \n",
       "14634203   1125.0    2.0   3.0   289445.0  6059.0   43.0\n",
       "11721753   1316.0    2.0   3.0   205123.0  6037.0   94.0\n",
       "11289917   1458.0    2.0   3.0   136104.0  6037.0   47.0\n",
       "11637029   1766.0    2.0   3.0   810694.0  6037.0   37.0\n",
       "11705026   1421.0    1.0   2.0    35606.0  6037.0  106.0\n",
       "...           ...    ...   ...        ...     ...    ...\n",
       "14453399   3015.0    3.0   5.0   852813.0  6059.0   15.0\n",
       "12019061    769.0    2.0   1.0   492395.0  6037.0   53.0\n",
       "11570288   1212.0    2.0   2.0   600608.0  6037.0   48.0\n",
       "11128688   2992.0    3.0   5.0  1120000.0  6037.0   40.0\n",
       "10713993   1574.0    3.0   3.0   563463.0  6037.0   66.0\n",
       "\n",
       "[38475 rows x 6 columns]"
      ]
     },
     "execution_count": 18,
     "metadata": {},
     "output_type": "execute_result"
    }
   ],
   "source": [
    "df"
   ]
  },
  {
   "cell_type": "code",
   "execution_count": 19,
   "id": "0d4f9546-4383-40f1-aa39-d0db9dcb540e",
   "metadata": {},
   "outputs": [],
   "source": [
    "df.beds = df.beds.astype('int64')"
   ]
  },
  {
   "cell_type": "code",
   "execution_count": 20,
   "id": "be96ae2e-096b-400c-b9dd-74a08a3becf2",
   "metadata": {},
   "outputs": [
    {
     "name": "stdout",
     "output_type": "stream",
     "text": [
      "<class 'pandas.core.frame.DataFrame'>\n",
      "Int64Index: 38475 entries, 14634203 to 10713993\n",
      "Data columns (total 6 columns):\n",
      " #   Column     Non-Null Count  Dtype  \n",
      "---  ------     --------------  -----  \n",
      " 0   sqft       38475 non-null  float64\n",
      " 1   baths      38475 non-null  float64\n",
      " 2   beds       38475 non-null  int64  \n",
      " 3   tax_value  38475 non-null  float64\n",
      " 4   fips       38475 non-null  float64\n",
      " 5   age        38447 non-null  float64\n",
      "dtypes: float64(5), int64(1)\n",
      "memory usage: 2.1 MB\n"
     ]
    }
   ],
   "source": [
    "df.info()"
   ]
  },
  {
   "cell_type": "code",
   "execution_count": 21,
   "id": "c5f3ed7b-fd5f-4428-b959-3ad046ae07ef",
   "metadata": {},
   "outputs": [],
   "source": [
    "df.fips = df.fips.astype('int64')"
   ]
  },
  {
   "cell_type": "code",
   "execution_count": 22,
   "id": "bd768aef-275e-4bb6-baff-55321a1f03e0",
   "metadata": {},
   "outputs": [
    {
     "data": {
      "text/plain": [
       "parcel_id\n",
       "14634203    6059\n",
       "11721753    6037\n",
       "11289917    6037\n",
       "11637029    6037\n",
       "11705026    6037\n",
       "            ... \n",
       "14453399    6059\n",
       "12019061    6037\n",
       "11570288    6037\n",
       "11128688    6037\n",
       "10713993    6037\n",
       "Name: fips, Length: 38475, dtype: int64"
      ]
     },
     "execution_count": 22,
     "metadata": {},
     "output_type": "execute_result"
    }
   ],
   "source": [
    "df.fips"
   ]
  },
  {
   "cell_type": "code",
   "execution_count": 23,
   "id": "75142b53-ba44-4704-bbd6-9513b6f8c9eb",
   "metadata": {},
   "outputs": [
    {
     "data": {
      "text/html": [
       "<div>\n",
       "<style scoped>\n",
       "    .dataframe tbody tr th:only-of-type {\n",
       "        vertical-align: middle;\n",
       "    }\n",
       "\n",
       "    .dataframe tbody tr th {\n",
       "        vertical-align: top;\n",
       "    }\n",
       "\n",
       "    .dataframe thead th {\n",
       "        text-align: right;\n",
       "    }\n",
       "</style>\n",
       "<table border=\"1\" class=\"dataframe\">\n",
       "  <thead>\n",
       "    <tr style=\"text-align: right;\">\n",
       "      <th></th>\n",
       "      <th>sqft</th>\n",
       "      <th>baths</th>\n",
       "      <th>beds</th>\n",
       "      <th>tax_value</th>\n",
       "      <th>fips</th>\n",
       "      <th>age</th>\n",
       "    </tr>\n",
       "    <tr>\n",
       "      <th>parcel_id</th>\n",
       "      <th></th>\n",
       "      <th></th>\n",
       "      <th></th>\n",
       "      <th></th>\n",
       "      <th></th>\n",
       "      <th></th>\n",
       "    </tr>\n",
       "  </thead>\n",
       "  <tbody>\n",
       "    <tr>\n",
       "      <th>14634203</th>\n",
       "      <td>1125.0</td>\n",
       "      <td>2.0</td>\n",
       "      <td>3</td>\n",
       "      <td>289445.0</td>\n",
       "      <td>6059</td>\n",
       "      <td>43.0</td>\n",
       "    </tr>\n",
       "    <tr>\n",
       "      <th>11721753</th>\n",
       "      <td>1316.0</td>\n",
       "      <td>2.0</td>\n",
       "      <td>3</td>\n",
       "      <td>205123.0</td>\n",
       "      <td>6037</td>\n",
       "      <td>94.0</td>\n",
       "    </tr>\n",
       "    <tr>\n",
       "      <th>11289917</th>\n",
       "      <td>1458.0</td>\n",
       "      <td>2.0</td>\n",
       "      <td>3</td>\n",
       "      <td>136104.0</td>\n",
       "      <td>6037</td>\n",
       "      <td>47.0</td>\n",
       "    </tr>\n",
       "    <tr>\n",
       "      <th>11637029</th>\n",
       "      <td>1766.0</td>\n",
       "      <td>2.0</td>\n",
       "      <td>3</td>\n",
       "      <td>810694.0</td>\n",
       "      <td>6037</td>\n",
       "      <td>37.0</td>\n",
       "    </tr>\n",
       "    <tr>\n",
       "      <th>11705026</th>\n",
       "      <td>1421.0</td>\n",
       "      <td>1.0</td>\n",
       "      <td>2</td>\n",
       "      <td>35606.0</td>\n",
       "      <td>6037</td>\n",
       "      <td>106.0</td>\n",
       "    </tr>\n",
       "    <tr>\n",
       "      <th>...</th>\n",
       "      <td>...</td>\n",
       "      <td>...</td>\n",
       "      <td>...</td>\n",
       "      <td>...</td>\n",
       "      <td>...</td>\n",
       "      <td>...</td>\n",
       "    </tr>\n",
       "    <tr>\n",
       "      <th>14453399</th>\n",
       "      <td>3015.0</td>\n",
       "      <td>3.0</td>\n",
       "      <td>5</td>\n",
       "      <td>852813.0</td>\n",
       "      <td>6059</td>\n",
       "      <td>15.0</td>\n",
       "    </tr>\n",
       "    <tr>\n",
       "      <th>12019061</th>\n",
       "      <td>769.0</td>\n",
       "      <td>2.0</td>\n",
       "      <td>1</td>\n",
       "      <td>492395.0</td>\n",
       "      <td>6037</td>\n",
       "      <td>53.0</td>\n",
       "    </tr>\n",
       "    <tr>\n",
       "      <th>11570288</th>\n",
       "      <td>1212.0</td>\n",
       "      <td>2.0</td>\n",
       "      <td>2</td>\n",
       "      <td>600608.0</td>\n",
       "      <td>6037</td>\n",
       "      <td>48.0</td>\n",
       "    </tr>\n",
       "    <tr>\n",
       "      <th>11128688</th>\n",
       "      <td>2992.0</td>\n",
       "      <td>3.0</td>\n",
       "      <td>5</td>\n",
       "      <td>1120000.0</td>\n",
       "      <td>6037</td>\n",
       "      <td>40.0</td>\n",
       "    </tr>\n",
       "    <tr>\n",
       "      <th>10713993</th>\n",
       "      <td>1574.0</td>\n",
       "      <td>3.0</td>\n",
       "      <td>3</td>\n",
       "      <td>563463.0</td>\n",
       "      <td>6037</td>\n",
       "      <td>66.0</td>\n",
       "    </tr>\n",
       "  </tbody>\n",
       "</table>\n",
       "<p>38447 rows × 6 columns</p>\n",
       "</div>"
      ],
      "text/plain": [
       "             sqft  baths  beds  tax_value  fips    age\n",
       "parcel_id                                             \n",
       "14634203   1125.0    2.0     3   289445.0  6059   43.0\n",
       "11721753   1316.0    2.0     3   205123.0  6037   94.0\n",
       "11289917   1458.0    2.0     3   136104.0  6037   47.0\n",
       "11637029   1766.0    2.0     3   810694.0  6037   37.0\n",
       "11705026   1421.0    1.0     2    35606.0  6037  106.0\n",
       "...           ...    ...   ...        ...   ...    ...\n",
       "14453399   3015.0    3.0     5   852813.0  6059   15.0\n",
       "12019061    769.0    2.0     1   492395.0  6037   53.0\n",
       "11570288   1212.0    2.0     2   600608.0  6037   48.0\n",
       "11128688   2992.0    3.0     5  1120000.0  6037   40.0\n",
       "10713993   1574.0    3.0     3   563463.0  6037   66.0\n",
       "\n",
       "[38447 rows x 6 columns]"
      ]
     },
     "execution_count": 23,
     "metadata": {},
     "output_type": "execute_result"
    }
   ],
   "source": [
    "df.dropna(subset=['age'])"
   ]
  },
  {
   "cell_type": "code",
   "execution_count": 24,
   "id": "e075bce6-8ca2-462e-88dc-21dfa3b51432",
   "metadata": {},
   "outputs": [
    {
     "name": "stdout",
     "output_type": "stream",
     "text": [
      "<class 'pandas.core.frame.DataFrame'>\n",
      "Int64Index: 38475 entries, 14634203 to 10713993\n",
      "Data columns (total 6 columns):\n",
      " #   Column     Non-Null Count  Dtype  \n",
      "---  ------     --------------  -----  \n",
      " 0   sqft       38475 non-null  float64\n",
      " 1   baths      38475 non-null  float64\n",
      " 2   beds       38475 non-null  int64  \n",
      " 3   tax_value  38475 non-null  float64\n",
      " 4   fips       38475 non-null  int64  \n",
      " 5   age        38447 non-null  float64\n",
      "dtypes: float64(4), int64(2)\n",
      "memory usage: 2.1 MB\n"
     ]
    }
   ],
   "source": [
    "df.info()\n",
    "df = df.fillna(0)"
   ]
  },
  {
   "cell_type": "code",
   "execution_count": 25,
   "id": "c2d39e3b-023b-4d3c-b1aa-1f01483fedfb",
   "metadata": {},
   "outputs": [
    {
     "data": {
      "text/html": [
       "<div>\n",
       "<style scoped>\n",
       "    .dataframe tbody tr th:only-of-type {\n",
       "        vertical-align: middle;\n",
       "    }\n",
       "\n",
       "    .dataframe tbody tr th {\n",
       "        vertical-align: top;\n",
       "    }\n",
       "\n",
       "    .dataframe thead th {\n",
       "        text-align: right;\n",
       "    }\n",
       "</style>\n",
       "<table border=\"1\" class=\"dataframe\">\n",
       "  <thead>\n",
       "    <tr style=\"text-align: right;\">\n",
       "      <th></th>\n",
       "      <th>sqft</th>\n",
       "      <th>baths</th>\n",
       "      <th>beds</th>\n",
       "      <th>tax_value</th>\n",
       "      <th>fips</th>\n",
       "      <th>age</th>\n",
       "    </tr>\n",
       "    <tr>\n",
       "      <th>parcel_id</th>\n",
       "      <th></th>\n",
       "      <th></th>\n",
       "      <th></th>\n",
       "      <th></th>\n",
       "      <th></th>\n",
       "      <th></th>\n",
       "    </tr>\n",
       "  </thead>\n",
       "  <tbody>\n",
       "    <tr>\n",
       "      <th>14634203</th>\n",
       "      <td>1125.0</td>\n",
       "      <td>2.0</td>\n",
       "      <td>3</td>\n",
       "      <td>289445.0</td>\n",
       "      <td>6059</td>\n",
       "      <td>43.0</td>\n",
       "    </tr>\n",
       "    <tr>\n",
       "      <th>11721753</th>\n",
       "      <td>1316.0</td>\n",
       "      <td>2.0</td>\n",
       "      <td>3</td>\n",
       "      <td>205123.0</td>\n",
       "      <td>6037</td>\n",
       "      <td>94.0</td>\n",
       "    </tr>\n",
       "    <tr>\n",
       "      <th>11289917</th>\n",
       "      <td>1458.0</td>\n",
       "      <td>2.0</td>\n",
       "      <td>3</td>\n",
       "      <td>136104.0</td>\n",
       "      <td>6037</td>\n",
       "      <td>47.0</td>\n",
       "    </tr>\n",
       "    <tr>\n",
       "      <th>11637029</th>\n",
       "      <td>1766.0</td>\n",
       "      <td>2.0</td>\n",
       "      <td>3</td>\n",
       "      <td>810694.0</td>\n",
       "      <td>6037</td>\n",
       "      <td>37.0</td>\n",
       "    </tr>\n",
       "    <tr>\n",
       "      <th>11705026</th>\n",
       "      <td>1421.0</td>\n",
       "      <td>1.0</td>\n",
       "      <td>2</td>\n",
       "      <td>35606.0</td>\n",
       "      <td>6037</td>\n",
       "      <td>106.0</td>\n",
       "    </tr>\n",
       "    <tr>\n",
       "      <th>...</th>\n",
       "      <td>...</td>\n",
       "      <td>...</td>\n",
       "      <td>...</td>\n",
       "      <td>...</td>\n",
       "      <td>...</td>\n",
       "      <td>...</td>\n",
       "    </tr>\n",
       "    <tr>\n",
       "      <th>14453399</th>\n",
       "      <td>3015.0</td>\n",
       "      <td>3.0</td>\n",
       "      <td>5</td>\n",
       "      <td>852813.0</td>\n",
       "      <td>6059</td>\n",
       "      <td>15.0</td>\n",
       "    </tr>\n",
       "    <tr>\n",
       "      <th>12019061</th>\n",
       "      <td>769.0</td>\n",
       "      <td>2.0</td>\n",
       "      <td>1</td>\n",
       "      <td>492395.0</td>\n",
       "      <td>6037</td>\n",
       "      <td>53.0</td>\n",
       "    </tr>\n",
       "    <tr>\n",
       "      <th>11570288</th>\n",
       "      <td>1212.0</td>\n",
       "      <td>2.0</td>\n",
       "      <td>2</td>\n",
       "      <td>600608.0</td>\n",
       "      <td>6037</td>\n",
       "      <td>48.0</td>\n",
       "    </tr>\n",
       "    <tr>\n",
       "      <th>11128688</th>\n",
       "      <td>2992.0</td>\n",
       "      <td>3.0</td>\n",
       "      <td>5</td>\n",
       "      <td>1120000.0</td>\n",
       "      <td>6037</td>\n",
       "      <td>40.0</td>\n",
       "    </tr>\n",
       "    <tr>\n",
       "      <th>10713993</th>\n",
       "      <td>1574.0</td>\n",
       "      <td>3.0</td>\n",
       "      <td>3</td>\n",
       "      <td>563463.0</td>\n",
       "      <td>6037</td>\n",
       "      <td>66.0</td>\n",
       "    </tr>\n",
       "  </tbody>\n",
       "</table>\n",
       "<p>38475 rows × 6 columns</p>\n",
       "</div>"
      ],
      "text/plain": [
       "             sqft  baths  beds  tax_value  fips    age\n",
       "parcel_id                                             \n",
       "14634203   1125.0    2.0     3   289445.0  6059   43.0\n",
       "11721753   1316.0    2.0     3   205123.0  6037   94.0\n",
       "11289917   1458.0    2.0     3   136104.0  6037   47.0\n",
       "11637029   1766.0    2.0     3   810694.0  6037   37.0\n",
       "11705026   1421.0    1.0     2    35606.0  6037  106.0\n",
       "...           ...    ...   ...        ...   ...    ...\n",
       "14453399   3015.0    3.0     5   852813.0  6059   15.0\n",
       "12019061    769.0    2.0     1   492395.0  6037   53.0\n",
       "11570288   1212.0    2.0     2   600608.0  6037   48.0\n",
       "11128688   2992.0    3.0     5  1120000.0  6037   40.0\n",
       "10713993   1574.0    3.0     3   563463.0  6037   66.0\n",
       "\n",
       "[38475 rows x 6 columns]"
      ]
     },
     "execution_count": 25,
     "metadata": {},
     "output_type": "execute_result"
    }
   ],
   "source": [
    "df"
   ]
  },
  {
   "cell_type": "code",
   "execution_count": 26,
   "id": "a3253626-452e-483e-b8da-d09f0d73fa3c",
   "metadata": {},
   "outputs": [],
   "source": [
    "target = 'tax_value'"
   ]
  },
  {
   "cell_type": "code",
   "execution_count": 27,
   "id": "5c2e34fe-52ba-4e1d-a0b1-663227a60617",
   "metadata": {},
   "outputs": [],
   "source": [
    "train, validate, test, X_train, y_train, X_validate, y_validate, X_test, y_test = train_validate_test(df, target)"
   ]
  },
  {
   "cell_type": "code",
   "execution_count": 28,
   "id": "a5e2a1da-6dcf-4602-b4b0-1513b3be10c3",
   "metadata": {},
   "outputs": [
    {
     "data": {
      "text/plain": [
       "((21546, 6), (9234, 6), (7695, 6))"
      ]
     },
     "execution_count": 28,
     "metadata": {},
     "output_type": "execute_result"
    }
   ],
   "source": [
    "train.shape, validate.shape, test.shape"
   ]
  },
  {
   "cell_type": "code",
   "execution_count": 29,
   "id": "320b6c1c-5b00-4aad-a575-641ef76e99c8",
   "metadata": {},
   "outputs": [],
   "source": [
    "obj_cols = get_object_cols(df)"
   ]
  },
  {
   "cell_type": "code",
   "execution_count": 30,
   "id": "83499a50-ed6e-4bf4-afa8-da89b0401446",
   "metadata": {},
   "outputs": [],
   "source": [
    "num_cols = get_numeric_X_cols(X_train, obj_cols)"
   ]
  },
  {
   "cell_type": "code",
   "execution_count": 31,
   "id": "66ca3f00-cf73-48e7-b0b8-9891801ca914",
   "metadata": {},
   "outputs": [],
   "source": [
    "X_train_scaled, X_validate_scaled, X_test_scaled = min_max_scale(X_train, X_validate, X_test, num_cols)"
   ]
  },
  {
   "cell_type": "code",
   "execution_count": 32,
   "id": "5f8acf6d-0f0a-4f94-a979-e6a1b1b878f7",
   "metadata": {},
   "outputs": [
    {
     "data": {
      "text/html": [
       "<div>\n",
       "<style scoped>\n",
       "    .dataframe tbody tr th:only-of-type {\n",
       "        vertical-align: middle;\n",
       "    }\n",
       "\n",
       "    .dataframe tbody tr th {\n",
       "        vertical-align: top;\n",
       "    }\n",
       "\n",
       "    .dataframe thead th {\n",
       "        text-align: right;\n",
       "    }\n",
       "</style>\n",
       "<table border=\"1\" class=\"dataframe\">\n",
       "  <thead>\n",
       "    <tr style=\"text-align: right;\">\n",
       "      <th></th>\n",
       "      <th>sqft</th>\n",
       "      <th>baths</th>\n",
       "      <th>beds</th>\n",
       "      <th>fips</th>\n",
       "      <th>age</th>\n",
       "    </tr>\n",
       "  </thead>\n",
       "  <tbody>\n",
       "    <tr>\n",
       "      <th>12094957</th>\n",
       "      <td>0.151838</td>\n",
       "      <td>0.272727</td>\n",
       "      <td>0.4</td>\n",
       "      <td>0.000000</td>\n",
       "      <td>0.303704</td>\n",
       "    </tr>\n",
       "    <tr>\n",
       "      <th>12032697</th>\n",
       "      <td>0.022934</td>\n",
       "      <td>0.090909</td>\n",
       "      <td>0.1</td>\n",
       "      <td>0.000000</td>\n",
       "      <td>0.622222</td>\n",
       "    </tr>\n",
       "    <tr>\n",
       "      <th>11135945</th>\n",
       "      <td>0.186710</td>\n",
       "      <td>0.454545</td>\n",
       "      <td>0.5</td>\n",
       "      <td>0.000000</td>\n",
       "      <td>0.103704</td>\n",
       "    </tr>\n",
       "    <tr>\n",
       "      <th>17062341</th>\n",
       "      <td>0.040223</td>\n",
       "      <td>0.181818</td>\n",
       "      <td>0.2</td>\n",
       "      <td>1.000000</td>\n",
       "      <td>0.237037</td>\n",
       "    </tr>\n",
       "    <tr>\n",
       "      <th>10722461</th>\n",
       "      <td>0.053690</td>\n",
       "      <td>0.181818</td>\n",
       "      <td>0.3</td>\n",
       "      <td>0.000000</td>\n",
       "      <td>0.451852</td>\n",
       "    </tr>\n",
       "    <tr>\n",
       "      <th>...</th>\n",
       "      <td>...</td>\n",
       "      <td>...</td>\n",
       "      <td>...</td>\n",
       "      <td>...</td>\n",
       "      <td>...</td>\n",
       "    </tr>\n",
       "    <tr>\n",
       "      <th>12050831</th>\n",
       "      <td>0.065922</td>\n",
       "      <td>0.181818</td>\n",
       "      <td>0.2</td>\n",
       "      <td>0.000000</td>\n",
       "      <td>0.681481</td>\n",
       "    </tr>\n",
       "    <tr>\n",
       "      <th>14717936</th>\n",
       "      <td>0.062570</td>\n",
       "      <td>0.227273</td>\n",
       "      <td>0.3</td>\n",
       "      <td>0.297297</td>\n",
       "      <td>0.155556</td>\n",
       "    </tr>\n",
       "    <tr>\n",
       "      <th>11451314</th>\n",
       "      <td>0.053925</td>\n",
       "      <td>0.181818</td>\n",
       "      <td>0.3</td>\n",
       "      <td>0.000000</td>\n",
       "      <td>0.466667</td>\n",
       "    </tr>\n",
       "    <tr>\n",
       "      <th>17133084</th>\n",
       "      <td>0.073861</td>\n",
       "      <td>0.181818</td>\n",
       "      <td>0.4</td>\n",
       "      <td>1.000000</td>\n",
       "      <td>0.400000</td>\n",
       "    </tr>\n",
       "    <tr>\n",
       "      <th>11288389</th>\n",
       "      <td>0.079447</td>\n",
       "      <td>0.181818</td>\n",
       "      <td>0.4</td>\n",
       "      <td>0.000000</td>\n",
       "      <td>0.200000</td>\n",
       "    </tr>\n",
       "  </tbody>\n",
       "</table>\n",
       "<p>21546 rows × 5 columns</p>\n",
       "</div>"
      ],
      "text/plain": [
       "              sqft     baths  beds      fips       age\n",
       "12094957  0.151838  0.272727   0.4  0.000000  0.303704\n",
       "12032697  0.022934  0.090909   0.1  0.000000  0.622222\n",
       "11135945  0.186710  0.454545   0.5  0.000000  0.103704\n",
       "17062341  0.040223  0.181818   0.2  1.000000  0.237037\n",
       "10722461  0.053690  0.181818   0.3  0.000000  0.451852\n",
       "...            ...       ...   ...       ...       ...\n",
       "12050831  0.065922  0.181818   0.2  0.000000  0.681481\n",
       "14717936  0.062570  0.227273   0.3  0.297297  0.155556\n",
       "11451314  0.053925  0.181818   0.3  0.000000  0.466667\n",
       "17133084  0.073861  0.181818   0.4  1.000000  0.400000\n",
       "11288389  0.079447  0.181818   0.4  0.000000  0.200000\n",
       "\n",
       "[21546 rows x 5 columns]"
      ]
     },
     "execution_count": 32,
     "metadata": {},
     "output_type": "execute_result"
    }
   ],
   "source": [
    "X_train_scaled"
   ]
  },
  {
   "cell_type": "code",
   "execution_count": 33,
   "id": "9a55d6d3-db99-40a0-9a6e-bcd1c3350358",
   "metadata": {},
   "outputs": [
    {
     "data": {
      "image/png": "[encoded data removed]",
      "text/plain": [
       "<Figure size 936x648 with 6 Axes>"
      ]
     },
     "metadata": {
      "needs_background": "light"
     },
     "output_type": "display_data"
    }
   ],
   "source": [
    "plt.figure(figsize=(13,9))\n",
    "plt.subplot(6,1,1, title='Distribution of Sq Ft')\n",
    "plt.hist(data=train, x='sqft', bins = 30,ec='black')\n",
    "\n",
    "plt.subplot(6,1,2, title='Distribution of No. of Bathrooms')\n",
    "plt.hist(data=train, x='baths', ec='black')\n",
    "\n",
    "plt.subplot(6,1,3, title='Distribution of No. of Bedrooms')\n",
    "plt.hist(data=train, x='beds',ec='black')\n",
    "\n",
    "plt.subplot(6,1,4, title='Distribution of FIPS')\n",
    "plt.hist(data=train, x='fips',ec='black')\n",
    "\n",
    "plt.subplot(6,1,5, title='Distribution of Values')\n",
    "plt.hist(data=train, x='tax_value',ec='black')\n",
    "\n",
    "plt.subplot(6,1,6, title='Distribution of Age')\n",
    "plt.hist(data=train, x='age',ec='black')\n",
    "\n",
    "plt.subplots_adjust(hspace=1)\n",
    "plt.show()"
   ]
  },
  {
   "cell_type": "code",
   "execution_count": 34,
   "id": "4827b529-e392-48a1-9d46-db310d262173",
   "metadata": {},
   "outputs": [],
   "source": [
    "cols = ['sqft', 'baths','beds','fips','age','tax_value']"
   ]
  },
  {
   "cell_type": "code",
   "execution_count": 35,
   "id": "fbd7af3d-376b-4b5f-9d85-1c594df6ffbc",
   "metadata": {},
   "outputs": [
    {
     "data": {
      "image/png": "[encoded data removed]",
      "text/plain": [
       "<Figure size 1080x1080 with 42 Axes>"
      ]
     },
     "metadata": {
      "needs_background": "light"
     },
     "output_type": "display_data"
    }
   ],
   "source": [
    "plot_variable_pairs(train, cols)"
   ]
  },
  {
   "cell_type": "code",
   "execution_count": 36,
   "id": "d7436942-ce7f-4a22-9aa1-e2255d6797d2",
   "metadata": {},
   "outputs": [],
   "source": [
    "def get_heatmap(train):\n",
    "    plt.figure(figsize=(8,12))\n",
    "    heatmap = sns.heatmap(df.corr()[['tax_value']].sort_values(by='tax_value', ascending=False), vmin=-.5, vmax=.5, annot=True)\n",
    "    heatmap.set_title('Feautures Correlating with Value')\n",
    "    \n",
    "    return heatmap"
   ]
  },
  {
   "cell_type": "code",
   "execution_count": 37,
   "id": "e60c2d79-f9b5-4598-b39e-e250f0165448",
   "metadata": {},
   "outputs": [
    {
     "data": {
      "text/plain": [
       "<AxesSubplot:title={'center':'Feautures Correlating with Value'}>"
      ]
     },
     "execution_count": 37,
     "metadata": {},
     "output_type": "execute_result"
    },
    {
     "data": {
      "image/png": "[encoded data removed]",
      "text/plain": [
       "<Figure size 576x864 with 2 Axes>"
      ]
     },
     "metadata": {
      "needs_background": "light"
     },
     "output_type": "display_data"
    }
   ],
   "source": [
    "get_heatmap(train)"
   ]
  },
  {
   "cell_type": "code",
   "execution_count": 38,
   "id": "1b10c0a7-9284-4d16-885b-235c246554af",
   "metadata": {},
   "outputs": [
    {
     "data": {
      "text/plain": [
       "['sqft', 'baths', 'beds', 'fips', 'age']"
      ]
     },
     "execution_count": 38,
     "metadata": {},
     "output_type": "execute_result"
    }
   ],
   "source": [
    "select_kbest(X_train_scaled, y_train,5)"
   ]
  },
  {
   "cell_type": "code",
   "execution_count": 39,
   "id": "a4bb8bfc-eb5e-4d82-981e-a734511a0410",
   "metadata": {},
   "outputs": [
    {
     "name": "stdout",
     "output_type": "stream",
     "text": [
      "['sqft', 'baths', 'beds', 'fips', 'age']\n"
     ]
    }
   ],
   "source": [
    "#tells us which features we should keep\n",
    "import statsmodels.api as sm\n",
    "cols = list(X_train_scaled.columns)\n",
    "pmax = 1\n",
    "while (len(cols)>0):\n",
    "    p= []\n",
    "    X_1 = X_train[cols]\n",
    "    X_1 = sm.add_constant(X_1)\n",
    "    model = sm.OLS(y_train,X_1).fit()\n",
    "    p = pd.Series(model.pvalues.values[1:],index = cols)\n",
    "    pmax = max(p)\n",
    "    feature_with_p_max = p.idxmax()\n",
    "    if(pmax>0.05):\n",
    "        cols.remove(feature_with_p_max)\n",
    "    else:\n",
    "        break\n",
    "\n",
    "selected_features_BE = cols\n",
    "print(selected_features_BE)"
   ]
  },
  {
   "cell_type": "code",
   "execution_count": 40,
   "id": "edb0872d-7290-4899-944b-7e45f9ee4cc7",
   "metadata": {},
   "outputs": [
    {
     "name": "stdout",
     "output_type": "stream",
     "text": [
      "Optimum number of features: 5\n",
      "Score with 5 features: 0.370154\n"
     ]
    }
   ],
   "source": [
    "#using RFE\n",
    "number_of_features_list=np.arange(1,7)\n",
    "high_score=0\n",
    "\n",
    "#Variable to store the optimum features\n",
    "number_of_features=0           \n",
    "score_list =[]\n",
    "\n",
    "for n in range(len(number_of_features_list)):\n",
    "    model = LinearRegression()\n",
    "    rfe = RFE(model,number_of_features_list[n])\n",
    "    X_train_rfe = rfe.fit_transform(X_train_scaled,y_train)\n",
    "    X_test_rfe = rfe.transform(X_test_scaled)\n",
    "    model.fit(X_train_rfe,y_train)\n",
    "    score = model.score(X_test_rfe,y_test)\n",
    "    score_list.append(score)\n",
    "    if(score>high_score):\n",
    "        high_score = score\n",
    "        number_of_features = number_of_features_list[n]\n",
    "\n",
    "print(\"Optimum number of features: %d\" %number_of_features)\n",
    "print(\"Score with %d features: %f\" % (number_of_features, high_score))"
   ]
  },
  {
   "cell_type": "code",
   "execution_count": 41,
   "id": "fe8d3c70-1aae-4dbd-8ab1-0fe9ae4a6ece",
   "metadata": {},
   "outputs": [
    {
     "name": "stdout",
     "output_type": "stream",
     "text": [
      "Index(['sqft', 'baths', 'beds', 'fips', 'age'], dtype='object')\n"
     ]
    }
   ],
   "source": [
    "cols = list(X_train.columns)\n",
    "model = LinearRegression()\n",
    "\n",
    "#Initializing RFE model\n",
    "rfe = RFE(model, 5)\n",
    "\n",
    "#Transforming data using RFE\n",
    "X_rfe = rfe.fit_transform(X_train,y_train)  \n",
    "\n",
    "#Fitting the data to model\n",
    "model.fit(X_rfe,y_train)\n",
    "temp = pd.Series(rfe.support_,index = cols)\n",
    "selected_features_rfe = temp[temp==True].index\n",
    "\n",
    "print(selected_features_rfe)"
   ]
  },
  {
   "cell_type": "code",
   "execution_count": 42,
   "id": "04fc0f12-b381-4f59-8b71-d21acd19cae4",
   "metadata": {},
   "outputs": [
    {
     "name": "stdout",
     "output_type": "stream",
     "text": [
      "Index(['sqft', 'baths', 'beds', 'fips', 'age'], dtype='object')\n"
     ]
    }
   ],
   "source": [
    "cols = list(X_train.columns)\n",
    "model = LinearRegression()\n",
    "\n",
    "#Initializing RFE model\n",
    "rfe = RFE(model, 5)\n",
    "\n",
    "#Transforming data using RFE\n",
    "X_rfe = rfe.fit_transform(X_train,y_train)  \n",
    "\n",
    "#Fitting the data to model\n",
    "model.fit(X_rfe,y_train)\n",
    "temp = pd.Series(rfe.support_,index = cols)\n",
    "selected_features_rfe = temp[temp==True].index\n",
    "\n",
    "print(selected_features_rfe)"
   ]
  },
  {
   "cell_type": "code",
   "execution_count": 43,
   "id": "3c807ebb-05e8-4234-892a-07bdaa47d2ee",
   "metadata": {},
   "outputs": [
    {
     "name": "stdout",
     "output_type": "stream",
     "text": [
      "BASELINE\n",
      "--------------------\n",
      "RMSE using Mean\n",
      "Train/In-Sample:  621167.38 \n",
      "Validate/Out-of-Sample:  652064.88\n",
      "--------------------\n",
      "RMSE using Median\n",
      "Train/In-Sample:  634577.05 \n",
      "Validate/Out-of-Sample:  668821.56\n"
     ]
    }
   ],
   "source": [
    "#turning my y_train and y_validate to dataframes so we can append new columns\n",
    "y_train = pd.DataFrame(y_train)\n",
    "y_validate = pd.DataFrame(y_validate)\n",
    "\n",
    "#tax_value mean\n",
    "tax_value_pred_mean = y_train['tax_value'].mean()\n",
    "y_train['tax_value_pred_mean'] = tax_value_pred_mean\n",
    "y_validate['tax_value_pred_mean'] = tax_value_pred_mean\n",
    "\n",
    "#tax_value_median\n",
    "tax_value_pred_median = y_train['tax_value'].median()\n",
    "y_train['tax_value_pred_median'] = tax_value_pred_median\n",
    "y_validate['tax_value_pred_median'] = tax_value_pred_median\n",
    "\n",
    "#RMSE of tax_value_pred_mean\n",
    "rmse_train = mean_squared_error(y_train.tax_value, y_train.tax_value_pred_mean)**(1/2)\n",
    "rmse_validate = mean_squared_error(y_validate.tax_value, y_validate.tax_value_pred_mean)**(1/2)\n",
    "\n",
    "print('BASELINE')\n",
    "print('--------------------')\n",
    "print(\"RMSE using Mean\\nTrain/In-Sample: \", round(rmse_train, 2), \n",
    "      \"\\nValidate/Out-of-Sample: \", round(rmse_validate, 2))\n",
    "print('--------------------')\n",
    "\n",
    "#RMSE of tax_value_pred_median\n",
    "rmse_train = mean_squared_error(y_train.tax_value, y_train.tax_value_pred_median)**(1/2)\n",
    "rmse_validate = mean_squared_error(y_validate.tax_value, y_validate.tax_value_pred_median)**(1/2)\n",
    "\n",
    "print(\"RMSE using Median\\nTrain/In-Sample: \", round(rmse_train, 2), \n",
    "      \"\\nValidate/Out-of-Sample: \", round(rmse_validate, 2))"
   ]
  },
  {
   "cell_type": "code",
   "execution_count": 44,
   "id": "7f8af187-93bc-4946-aed2-c582288d3c22",
   "metadata": {},
   "outputs": [
    {
     "name": "stdout",
     "output_type": "stream",
     "text": [
      "The r^2 score for baseline is -0.000979769002724673\n"
     ]
    }
   ],
   "source": [
    "r2_baseline = r2_score(y_validate.tax_value, y_validate.tax_value_pred_mean)\n",
    "print(f'The r^2 score for baseline is {r2_baseline}')"
   ]
  },
  {
   "cell_type": "code",
   "execution_count": 45,
   "id": "57f81f87-01ba-4ccf-8455-f2576155dee5",
   "metadata": {},
   "outputs": [
    {
     "name": "stdout",
     "output_type": "stream",
     "text": [
      "RMSE for OLS using LinearRegression\n",
      "Training/In-Sample:  470018.63462614303 \n",
      "Validation/Out-of-Sample:  511826.7636719257\n"
     ]
    }
   ],
   "source": [
    "#create model object\n",
    "lm = LinearRegression(normalize=True)\n",
    "\n",
    "#fit the model to our training data, specify column since it is a dataframe\n",
    "lm.fit(X_train_scaled,y_train.tax_value)\n",
    "\n",
    "#predict train\n",
    "y_train['tax_value_pred_lm'] = lm.predict(X_train_scaled)\n",
    "\n",
    "#evaluate the RMSE for train\n",
    "rmse_train = mean_squared_error(y_train.tax_value, y_train.tax_value_pred_lm)**(1/2)\n",
    "\n",
    "#predict validate\n",
    "y_validate['tax_value_pred_lm'] = lm.predict(X_validate_scaled)\n",
    "\n",
    "#evaluate the RMSE for validate\n",
    "rmse_validate = mean_squared_error(y_validate.tax_value, y_validate.tax_value_pred_lm)**(1/2)\n",
    "\n",
    "print(\"RMSE for OLS using LinearRegression\\nTraining/In-Sample: \",rmse_train, \n",
    "      \"\\nValidation/Out-of-Sample: \", rmse_validate)"
   ]
  },
  {
   "cell_type": "code",
   "execution_count": 46,
   "id": "0baad28d-38c0-4eb3-ac44-2f454ea86c84",
   "metadata": {},
   "outputs": [
    {
     "data": {
      "text/plain": [
       "0.38327767922848854"
      ]
     },
     "execution_count": 46,
     "metadata": {},
     "output_type": "execute_result"
    }
   ],
   "source": [
    "r2_score_lm = r2_score(y_validate.tax_value, y_validate.tax_value_pred_lm)\n",
    "r2_score_lm"
   ]
  },
  {
   "cell_type": "code",
   "execution_count": 47,
   "id": "cb066c60-e09e-4b12-9dca-3eac5af6a7d0",
   "metadata": {},
   "outputs": [
    {
     "name": "stdout",
     "output_type": "stream",
     "text": [
      "RMSE for OLS using Lasso+Lars\n",
      "Training/In-Sample:  470018.875386389 \n",
      "Validation/Out-of-Sample:  511834.4327601418\n"
     ]
    }
   ],
   "source": [
    "#create model object\n",
    "lars = LassoLars(alpha=1.0)\n",
    "\n",
    "#fit the model to our training data, specify column since it is a dataframe\n",
    "lars.fit(X_train_scaled,y_train.tax_value)\n",
    "\n",
    "#predict train\n",
    "y_train['tax_value_pred_lars'] = lars.predict(X_train_scaled)\n",
    "\n",
    "#evaluate the RMSE for train\n",
    "rmse_train = mean_squared_error(y_train.tax_value, y_train.tax_value_pred_lars)**(1/2)\n",
    "\n",
    "#predict validate\n",
    "y_validate['tax_value_pred_lars'] = lars.predict(X_validate_scaled)\n",
    "\n",
    "#evaluate the RMSE for validate\n",
    "rmse_validate = mean_squared_error(y_validate.tax_value, y_validate.tax_value_pred_lars)**(1/2)\n",
    "\n",
    "print(\"RMSE for OLS using Lasso+Lars\\nTraining/In-Sample: \",rmse_train, \n",
    "      \"\\nValidation/Out-of-Sample: \", rmse_validate)"
   ]
  },
  {
   "cell_type": "code",
   "execution_count": 48,
   "id": "a61bc24b-6231-4dd9-b006-c6c031e0a20f",
   "metadata": {},
   "outputs": [
    {
     "data": {
      "text/plain": [
       "0.3832591974543694"
      ]
     },
     "execution_count": 48,
     "metadata": {},
     "output_type": "execute_result"
    }
   ],
   "source": [
    "r2_score_lars = r2_score(y_validate.tax_value, y_validate.tax_value_pred_lars)\n",
    "r2_score_lars"
   ]
  },
  {
   "cell_type": "code",
   "execution_count": 49,
   "id": "20ec1a68-03cc-4486-8180-cf58ed0c886b",
   "metadata": {},
   "outputs": [
    {
     "name": "stdout",
     "output_type": "stream",
     "text": [
      "RMSE for OLS using TweedieRegressor\n",
      "Training/In-Sample:  470018.63462614303 \n",
      "Validation/Out-of-Sample:  511826.7634436523\n"
     ]
    }
   ],
   "source": [
    "#create model object\n",
    "glm = TweedieRegressor(power =0, alpha=0.0)\n",
    "\n",
    "#fit the model to our training data, specify column since it is a dataframe\n",
    "glm.fit(X_train_scaled,y_train.tax_value)\n",
    "\n",
    "#predict train\n",
    "y_train['tax_value_pred_glm'] = glm.predict(X_train_scaled)\n",
    "\n",
    "#evaluate the RMSE for train\n",
    "rmse_train = mean_squared_error(y_train.tax_value, y_train.tax_value_pred_glm)**(1/2)\n",
    "\n",
    "#predict validate\n",
    "y_validate['tax_value_pred_glm'] = glm.predict(X_validate_scaled)\n",
    "\n",
    "#evaluate the RMSE for validate\n",
    "rmse_validate = mean_squared_error(y_validate.tax_value, y_validate.tax_value_pred_glm)**(1/2)\n",
    "\n",
    "print(\"RMSE for OLS using TweedieRegressor\\nTraining/In-Sample: \",rmse_train, \n",
    "      \"\\nValidation/Out-of-Sample: \", rmse_validate)"
   ]
  },
  {
   "cell_type": "code",
   "execution_count": 50,
   "id": "bdc75b52-4351-4739-b912-5cfeb684d788",
   "metadata": {},
   "outputs": [
    {
     "data": {
      "text/plain": [
       "0.3832776797786016"
      ]
     },
     "execution_count": 50,
     "metadata": {},
     "output_type": "execute_result"
    }
   ],
   "source": [
    "r2_score_glm = r2_score(y_validate.tax_value, y_validate.tax_value_pred_glm)\n",
    "r2_score_glm"
   ]
  },
  {
   "cell_type": "code",
   "execution_count": 51,
   "id": "f84c646f-3ae5-42eb-94ce-e8ece6a74d89",
   "metadata": {},
   "outputs": [],
   "source": [
    "#making polynomial features to get a new set of features\n",
    "pf = PolynomialFeatures(degree=2)\n",
    "\n",
    "#fit and transform X_train_scaled\n",
    "X_train_degree2 = pf.fit_transform(X_train_scaled)\n",
    "\n",
    "#transform X_validate_scaled, and X_test_scaled\n",
    "X_validate_degree2 = pf.transform(X_validate_scaled)\n",
    "X_test_degree2 = pf.transform(X_test_scaled)"
   ]
  },
  {
   "cell_type": "code",
   "execution_count": 52,
   "id": "b2c6f66f-839a-4191-82b6-a4ea3a3ee783",
   "metadata": {},
   "outputs": [
    {
     "name": "stdout",
     "output_type": "stream",
     "text": [
      "RMSE for Polynomial Model, degrees=2\n",
      "Training/In-Sample:  448686.4897916745 \n",
      "Validation/Out-of-Sample:  503707.3656057897\n"
     ]
    }
   ],
   "source": [
    "#okay let's do linear regression again\n",
    "lm2 = LinearRegression(normalize=True)\n",
    "\n",
    "#fit the model using scaled X_train, once again specify y_train column\n",
    "lm2.fit(X_train_degree2, y_train.tax_value)\n",
    "\n",
    "#predict train\n",
    "y_train['tax_value_pred_lm2'] = lm2.predict(X_train_degree2)\n",
    "\n",
    "#evaluate rmse for train\n",
    "rmse_train = mean_squared_error(y_train.tax_value, y_train.tax_value_pred_lm2)**(1/2)\n",
    "\n",
    "#predict validate\n",
    "y_validate['tax_value_pred_lm2'] = lm2.predict(X_validate_degree2)\n",
    "\n",
    "#evaluate rmse for validate\n",
    "rmse_validate = mean_squared_error(y_validate.tax_value, y_validate.tax_value_pred_lm2)**(1/2)\n",
    "\n",
    "print(\"RMSE for Polynomial Model, degrees=2\\nTraining/In-Sample: \", rmse_train, \n",
    "      \"\\nValidation/Out-of-Sample: \", rmse_validate)"
   ]
  },
  {
   "cell_type": "code",
   "execution_count": 53,
   "id": "7549d0e3-c0ec-4e16-acb5-8c281f7474aa",
   "metadata": {},
   "outputs": [
    {
     "data": {
      "text/plain": [
       "0.40268931084983806"
      ]
     },
     "execution_count": 53,
     "metadata": {},
     "output_type": "execute_result"
    }
   ],
   "source": [
    "r2_score_lm2 = r2_score(y_validate.tax_value, y_validate.tax_value_pred_lm2)\n",
    "r2_score_lm2"
   ]
  },
  {
   "cell_type": "code",
   "execution_count": 54,
   "id": "eeaadf44-39d5-4591-9904-78d84f6c1121",
   "metadata": {},
   "outputs": [
    {
     "data": {
      "text/plain": [
       "<matplotlib.legend.Legend at 0x7fc9386ae7f0>"
      ]
     },
     "execution_count": 54,
     "metadata": {},
     "output_type": "execute_result"
    },
    {
     "data": {
      "image/png": "[encoded data removed]",
      "text/plain": [
       "<Figure size 1440x576 with 1 Axes>"
      ]
     },
     "metadata": {
      "needs_background": "light"
     },
     "output_type": "display_data"
    }
   ],
   "source": [
    "plt.figure(figsize=(20,8))\n",
    "plt.axhline(label=\"No Error\")\n",
    "plt.scatter(y_validate.tax_value, y_validate.tax_value_pred_lm-y_validate.tax_value, \n",
    "            alpha=.5, color=\"red\", s=100, label=\"Model: LinearRegression\")\n",
    "plt.scatter(y_validate.tax_value, y_validate.tax_value_pred_lars-y_validate.tax_value, \n",
    "            alpha=.5, color=\"blue\", s=100, label=\"Model: LinearRegression\")\n",
    "plt.scatter(y_validate.tax_value, y_validate.tax_value_pred_glm-y_validate.tax_value, \n",
    "            alpha=.5, color=\"yellow\", s=100, label=\"Model: TweedieRegressor\")\n",
    "plt.scatter(y_validate.tax_value, y_validate.tax_value_pred_lm2-y_validate.tax_value, \n",
    "            alpha=.5, color=\"green\", s=100, label=\"Model 2nd degree Polynomial\")\n",
    "plt.legend()"
   ]
  },
  {
   "cell_type": "code",
   "execution_count": 55,
   "id": "a52333e7-b52c-4158-b2f7-d566c61225f0",
   "metadata": {},
   "outputs": [
    {
     "data": {
      "text/plain": [
       "<AxesSubplot:xlabel='tax_value', ylabel='tax_value_pred_lm2'>"
      ]
     },
     "execution_count": 55,
     "metadata": {},
     "output_type": "execute_result"
    },
    {
     "data": {
      "image/png": "[encoded data removed]",
      "text/plain": [
       "<Figure size 1440x576 with 1 Axes>"
      ]
     },
     "metadata": {
      "needs_background": "light"
     },
     "output_type": "display_data"
    }
   ],
   "source": [
    "plt.figure(figsize=(20,8))\n",
    "\n",
    "sns.regplot(data=y_test, x=y_validate.tax_value, y=y_validate.tax_value_pred_lm2, \n",
    "            scatter_kws={'color':'blue'}, line_kws={'color':'red'})"
   ]
  },
  {
   "cell_type": "markdown",
   "id": "7354bca6-a61c-4ae2-a5f3-10475057df45",
   "metadata": {},
   "source": [
    "### Test"
   ]
  },
  {
   "cell_type": "code",
   "execution_count": 56,
   "id": "d303d31b-0e83-4bfe-91b0-6c960718e489",
   "metadata": {},
   "outputs": [
    {
     "name": "stdout",
     "output_type": "stream",
     "text": [
      "RMSE for OLS Model using LinearRegression (2 degrees)\n",
      "Out-of-Sample Performance:  476654.69512114284\n"
     ]
    }
   ],
   "source": [
    "#turning it into a dataframe\n",
    "y_test = pd.DataFrame(y_test)\n",
    "\n",
    "# predicting on our test model\n",
    "y_test['tax_value_pred_lm2'] = lm2.predict(X_test_degree2)\n",
    "\n",
    "# evaluate: rmse\n",
    "rmse_test = mean_squared_error(y_test.tax_value, y_test.tax_value_pred_lm2)**(1/2)\n",
    "\n",
    "print(\"RMSE for OLS Model using LinearRegression (2 degrees)\\nOut-of-Sample Performance: \", rmse_test)"
   ]
  },
  {
   "cell_type": "code",
   "execution_count": 57,
   "id": "8b932789-62db-4515-a8ea-19c61715e9f7",
   "metadata": {},
   "outputs": [
    {
     "name": "stdout",
     "output_type": "stream",
     "text": [
      "LinearRegression(2 degrees) has an R^2 value of 0.40384902016210245\n"
     ]
    }
   ],
   "source": [
    "r2_test_score_lm2 = r2_score(y_test.tax_value, y_test.tax_value_pred_lm2)\n",
    "print(f'LinearRegression(2 degrees) has an R^2 value of {r2_test_score_lm2}')"
   ]
  },
  {
   "cell_type": "markdown",
   "id": "089c572b-633c-4724-87e2-e6df0cabba98",
   "metadata": {},
   "source": [
    "### Tax Rates for Each County"
   ]
  },
  {
   "cell_type": "code",
   "execution_count": null,
   "id": "2b9ef08a-6d79-4168-96f3-f9f5487f67c7",
   "metadata": {},
   "outputs": [],
   "source": []
  }
 ],
 "metadata": {
  "kernelspec": {
   "display_name": "Python 3",
   "language": "python",
   "name": "python3"
  },
  "language_info": {
   "codemirror_mode": {
    "name": "ipython",
    "version": 3
   },
   "file_extension": ".py",
   "mimetype": "text/x-python",
   "name": "python",
   "nbconvert_exporter": "python",
   "pygments_lexer": "ipython3",
   "version": "3.8.5"
  }
 },
 "nbformat": 4,
 "nbformat_minor": 5
}
